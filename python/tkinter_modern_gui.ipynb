{
 "cells": [
  {
   "cell_type": "code",
   "execution_count": 2,
   "metadata": {},
   "outputs": [],
   "source": [
    "# 1. Required libraries:\n",
    "import cmd\n",
    "from tkinter import *\n",
    "import tkinter.font as font\n",
    "\n",
    "# 2. Root parametres:\n",
    "root = Tk()\n",
    "root.geometry(\"600x630\")\n",
    "root.config(background=\"#000000\")\n",
    "root.title(\"Testing Platform\")\n",
    "root.resizable(False, False)\n",
    "\n",
    "root.mainloop()"
   ]
  }
 ],
 "metadata": {
  "kernelspec": {
   "display_name": "Python 3.10.6 64-bit (windows store)",
   "language": "python",
   "name": "python3"
  },
  "language_info": {
   "codemirror_mode": {
    "name": "ipython",
    "version": 3
   },
   "file_extension": ".py",
   "mimetype": "text/x-python",
   "name": "python",
   "nbconvert_exporter": "python",
   "pygments_lexer": "ipython3",
   "version": "3.10.6"
  },
  "orig_nbformat": 4,
  "vscode": {
   "interpreter": {
    "hash": "0e1d93a7bbc0653bd8b1787449b80bd1b5fea6a19241c576ffee3f48653a995e"
   }
  }
 },
 "nbformat": 4,
 "nbformat_minor": 2
}
