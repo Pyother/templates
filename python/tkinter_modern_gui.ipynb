{
 "cells": [
  {
   "cell_type": "code",
   "execution_count": 17,
   "metadata": {},
   "outputs": [],
   "source": [
    "# 1. Required libraries:\n",
    "import cmd\n",
    "from tkinter import *\n",
    "import tkinter.font as font\n",
    "\n",
    "# 2. Root parametres:\n",
    "root = Tk()\n",
    "root.geometry(\"600x630\")\n",
    "root.config(background=\"#000000\")\n",
    "root.title(\"Testing Platform\")\n",
    "root.resizable(False, False)\n",
    "\n",
    "# 3. Components:\n",
    "def create_components():\n",
    "    \n",
    "    # 3.1. Labels:\n",
    "    header = Label(root, text=\"A P P   T I T L E\", borderwidth=1, fg = 'black', background = 'white',\n",
    "            font = 'Corbel_Light, 8', relief = 'flat', width = 100, height = 2, anchor = 'c').place(x=0, y=0)\n",
    "\n",
    "    # 3.2. Buttons:\n",
    "    def bttn(x, y, text, bcolor, fcolor, version):\n",
    "\n",
    "        def on_enter(e):\n",
    "            mybutton['foreground'] = bcolor\n",
    "\n",
    "        def on_leave(e):\n",
    "            mybutton['foreground'] = \"#ffffff\"\n",
    "        \n",
    "        if version == 1:\n",
    "            mybutton = Button(root, width = 35, height = 2, text = text, fg = 'white', bg = fcolor, font = 'Corbel_Light, 8',\n",
    "                    border = 0, activeforeground = bcolor, activebackground = fcolor, command = None)\n",
    "        elif version == 2:\n",
    "            mybutton = Button(root, width = 35, height = 2, text = text, fg = fcolor, bg = bcolor, font = 'Corbel_Light, 8',\n",
    "                    border = 0, activeforeground = bcolor, activebackground = fcolor, command = None)\n",
    "        \n",
    "        mybutton.bind(\"<Enter>\", on_enter)\n",
    "        mybutton.bind(\"<Leave>\", on_leave)\n",
    "        mybutton.place(x=x, y=y)\n",
    "    \n",
    "    bttn(50, 50, \"L A B E L   N R . 1\", \"#752605\",\"#000000\", 1)\n",
    "    bttn(50, 130, \"L A B E L   N R . 2\", \"#752605\",\"#000000\", 1)\n",
    "    bttn(50, 210, \"L A B E L   N R . 3\", \"#752605\",\"#000000\", 1)\n",
    "    bttn(330, 50, \"L A B E L   N R . 4\", \"#752605\",\"#000000\", 1)\n",
    "    bttn(50, 290, \"L A B E L   N R . 5\", \"#752605\",\"#000000\", 1)\n",
    "    bttn(200, 550, \"S U B M I T\", \"#752605\",\"#000000\", 2)\n",
    "\n",
    "\n",
    "# 4. Root mainloop:\n",
    "create_components()\n",
    "root.mainloop()"
   ]
  }
 ],
 "metadata": {
  "kernelspec": {
   "display_name": "Python 3.10.6 64-bit (windows store)",
   "language": "python",
   "name": "python3"
  },
  "language_info": {
   "codemirror_mode": {
    "name": "ipython",
    "version": 3
   },
   "file_extension": ".py",
   "mimetype": "text/x-python",
   "name": "python",
   "nbconvert_exporter": "python",
   "pygments_lexer": "ipython3",
   "version": "3.10.6"
  },
  "orig_nbformat": 4,
  "vscode": {
   "interpreter": {
    "hash": "0e1d93a7bbc0653bd8b1787449b80bd1b5fea6a19241c576ffee3f48653a995e"
   }
  }
 },
 "nbformat": 4,
 "nbformat_minor": 2
}
